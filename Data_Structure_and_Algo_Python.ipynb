{
 "cells": [
  {
   "cell_type": "markdown",
   "id": "0279fa3c",
   "metadata": {},
   "source": [
    "# Data Structure and Algorithm related Practice"
   ]
  },
  {
   "cell_type": "markdown",
   "id": "caed7b31",
   "metadata": {},
   "source": [
    "## 1.) Stack and Queque\n",
    "    - A stack is a data structure with two main operations: push and pop.\n",
    "    - For this reason, stacks are referred to as a LIFO or a FILO data structure.\n",
    "        LIFO = Last in First out\n",
    "        FILO = First in Last out\n",
    "        \n",
    "    - A queue is a data structure with two main operations: enqueue and dequeue.\n",
    "        enqueue: append an element to the tail of the queue\n",
    "        dequeue: remove an element from the head of the queue"
   ]
  },
  {
   "cell_type": "markdown",
   "id": "71adb4c8",
   "metadata": {},
   "source": [
    "### Practice :  -"
   ]
  },
  {
   "cell_type": "markdown",
   "id": "048c1c81",
   "metadata": {},
   "source": [
    "Practice 1: - **To count the views on youtube channel.**"
   ]
  },
  {
   "cell_type": "code",
   "execution_count": null,
   "id": "c5c668b7",
   "metadata": {},
   "outputs": [],
   "source": [
    "user_list = [1,2,5,4,6,9,1,2,9,1,2,4,5,1,5,2,5]"
   ]
  },
  {
   "cell_type": "code",
   "execution_count": null,
   "id": "8c308cfe",
   "metadata": {},
   "outputs": [],
   "source": [
    "def user_count(user_list):\n",
    "    views = []\n",
    "    count = 0\n",
    "    for user in user_list:\n",
    "        if user not in views:\n",
    "            views.append(user)\n",
    "            count +=1\n",
    "        else:\n",
    "            pass\n",
    "    return f\"Number of views on  your view's are : {count}\"\n"
   ]
  },
  {
   "cell_type": "code",
   "execution_count": null,
   "id": "876617fd",
   "metadata": {
    "scrolled": true
   },
   "outputs": [],
   "source": [
    "user_count(user_list)"
   ]
  },
  {
   "cell_type": "markdown",
   "id": "288cdaf7",
   "metadata": {},
   "source": [
    "Practice 2: - **Back button in Browser**\n",
    "<br>Back button in browser is used to get to the previuos site or one step back.\n",
    "It is a good example of stacking."
   ]
  },
  {
   "cell_type": "code",
   "execution_count": null,
   "id": "0ebe1ca6",
   "metadata": {},
   "outputs": [],
   "source": [
    "site_list = []\n",
    "Flag = 1\n",
    "\n",
    "\n",
    "\n",
    "while Flag == 1:  \n",
    "    # options to ask from users befor proceeding.\n",
    "    option = input(\"\"\"Go to the site or come back to previous on.\n",
    "                            Press X to move forward\n",
    "                            Press Y to move backword\n",
    "                            Press Z to exit the browser\"\"\").lower()\n",
    "    # if user wants to surf.\n",
    "    if option == \"x\":\n",
    "        site_name = input(\"enter the site you want to go.\")\n",
    "        site_list.append(site_name) #not checking for previous occurance as we can suffer same site for multiple time\n",
    "    \n",
    "    # if he wants to go back\n",
    "    \n",
    "    elif option == \"y\":\n",
    "        site_list.remove(site_list[-1])  # removes last elem.\n",
    "        print(\"we are to stie {}\".format(site_list[-1]))\n",
    "    \n",
    "    # if he is looking to close the browser\n",
    "    \n",
    "    elif option ==\"z\":\n",
    "        print(\"Thanks for using our browsing services.\")\n",
    "        Flag = 0\n",
    "    \n",
    "    # if non is selected\n",
    "    \n",
    "    else:\n",
    "        print(\"Please select valid option\")\n",
    "\n",
    "\n"
   ]
  },
  {
   "cell_type": "markdown",
   "id": "70bdcfd0",
   "metadata": {},
   "source": [
    "## Swapping\n"
   ]
  },
  {
   "cell_type": "markdown",
   "id": "4f47ad3a",
   "metadata": {},
   "source": [
    "Interchanging the values using a bucket or assigning one varibale to other we do swapping."
   ]
  },
  {
   "cell_type": "code",
   "execution_count": 3,
   "id": "d17f14a7",
   "metadata": {},
   "outputs": [
    {
     "name": "stdout",
     "output_type": "stream",
     "text": [
      "word 1 before swapping 10\n",
      "word 2 before swapping 20\n",
      "\n",
      "word 1 after swapping 20\n",
      "word 2 after swapping 10\n"
     ]
    }
   ],
   "source": [
    "swap_list = [10,20]\n",
    "word1 = swap_list[0]\n",
    "word2 = swap_list[1]\n",
    "\n",
    "print(f\"word 1 before swapping {word1}\")\n",
    "print(f\"word 2 before swapping {word2}\\n\")\n",
    "\n",
    "#swappng\n",
    "bucket = word2\n",
    "word2 = word1\n",
    "word1 = bucket\n",
    "\n",
    "print(f\"word 1 after swapping {word1}\")\n",
    "print(f\"word 2 after swapping {word2}\")"
   ]
  },
  {
   "cell_type": "markdown",
   "id": "515735a1",
   "metadata": {},
   "source": [
    "Practice : - <br> \n",
    "You are given two integer variables,  x and y. You have to swap the values stored in x and y.\n",
    "<br>\n",
    "----------------------------------------------------------------------\n",
    "Input:\n",
    "Two numbers x and y separated by a comma.\n",
    "<br>\n",
    "Output:\n",
    "Print 5 lines. The first two lines will have values of variables shown before swapping, and the last two lines will have values of variables shown after swapping. The third line will be blank.\n",
    "<br>\n",
    "----------------------------------------------------------------------\n",
    "Sample input:\n",
    "20, 50"
   ]
  },
  {
   "cell_type": "code",
   "execution_count": 8,
   "id": "2c86f819",
   "metadata": {},
   "outputs": [
    {
     "name": "stdout",
     "output_type": "stream",
     "text": [
      "word 1 before swapping 20\n",
      "word 2 before swapping 50\n",
      "\n",
      "word 1 after swapping 50\n",
      "word 2 after swapping 20\n"
     ]
    }
   ],
   "source": [
    "swap_numbers = \"20,50\"\n",
    "swap_list = swap_numbers.split(\",\")\n",
    "word1 = int(swap_list[0])\n",
    "word2 = int(swap_list[1])\n",
    "\n",
    "print(f\"word 1 before swapping {word1}\")\n",
    "print(f\"word 2 before swapping {word2}\\n\")\n",
    "\n",
    "#swappng\n",
    "bucket = word2\n",
    "word2 = word1\n",
    "word1 = bucket\n",
    "\n",
    "print(f\"word 1 after swapping {word1}\")\n",
    "print(f\"word 2 after swapping {word2}\")"
   ]
  },
  {
   "cell_type": "markdown",
   "id": "4637a7d1",
   "metadata": {},
   "source": [
    "## Even or Odd"
   ]
  },
  {
   "cell_type": "markdown",
   "id": "859876ee",
   "metadata": {},
   "source": [
    "Any number divisible by 2 is even and other are odd."
   ]
  },
  {
   "cell_type": "markdown",
   "id": "c444ea2c",
   "metadata": {},
   "source": [
    "Practice: - <br>\n",
    "A number k is beautiful if it is of the form 3n+1, is pretty if it is of the form 3n+2 and is sexy if it is of form 3n.\n",
    "Given a number k, print if it is beautiful, pretty or sexy.\n",
    "<br>\n",
    "Sample input:\n",
    "21\n",
    "<br>\n",
    "Sample output:\n",
    "**sexy**\n",
    "<br>\n",
    "Sample input:\n",
    "22\n",
    "<br>\n",
    "Sample output:\n",
    "**beautiful**\n",
    "<br>\n",
    "Sample input:\n",
    "23\n",
    "<br>\n",
    "Sample output:\n",
    "**pretty**"
   ]
  },
  {
   "cell_type": "code",
   "execution_count": 15,
   "id": "9554594f",
   "metadata": {},
   "outputs": [
    {
     "name": "stdout",
     "output_type": "stream",
     "text": [
      "for 21 girl is: - \n",
      "sexy\n",
      "for 22 girl is: - \n",
      "beautiful\n",
      "for 23 girl is: - \n",
      "pretty\n"
     ]
    }
   ],
   "source": [
    "n =[21,22,23]\n",
    "\n",
    "for i in n:\n",
    "    if i%3==0:\n",
    "        print(f\"for {i} girl is: - \")\n",
    "        print(\"sexy\")\n",
    "    elif i%3==2:\n",
    "        print(f\"for {i} girl is: - \")\n",
    "        print(\"pretty\")\n",
    "    elif i%3==1:\n",
    "        print(f\"for {i} girl is: - \")\n",
    "        print(\"beautiful\")"
   ]
  },
  {
   "cell_type": "markdown",
   "id": "5995c20a",
   "metadata": {},
   "source": [
    "## Alarm Clock"
   ]
  },
  {
   "cell_type": "markdown",
   "id": "c9ad5b4a",
   "metadata": {},
   "source": [
    "Practice: - <br>\n",
    "You're trying to automate your alarm clock by writing a function for it. You're given a day of the week encoded as 1=Mon, 2=Tue, ... 6=Sat, 7=Sun, and whether you are on vacation as a boolean value (a boolean object is either True or False. Google \"booleans python\" to get a better understanding). Based on the day and whether you're on vacation, write a function that returns a time in form of a string indicating when the alarm clock should ring. \n",
    "<br>\n",
    "When not on a vacation, on weekdays, the alarm should ring at \"7:00\" and on the weekends (Saturday and Sunday) it should ring at \"10:00\". \n",
    "<br>\n",
    "While on a vacation, it should ring at \"10:00\" on weekdays. On vacation, it should not ring on weekends, that is, it should return \"off\".\n",
    "<br>\n",
    "----------------------------------------------------------------------\n",
    "<br>\n",
    "Input:\n",
    "The input will be a list of two elements. The first element will be an integer from 1 to 7, and the second element will be a boolean value.\n",
    "<br>\n",
    "Output:\n",
    "The output will be a string denoting the time alarm will ring or 'off'\n",
    "<br>\n",
    "----------------------------------------------------------------------\n",
    "<br>\n",
    "Sample input:\n",
    "[7, True]\n",
    "<br>\n",
    "Sample output:\n",
    "off\n",
    "<br>\n",
    "---------------------------------------------------------------------<br>\n",
    "Sample input:\n",
    "[3, True]\n",
    "<br>\n",
    "Sample output:\n",
    "10:00\n",
    "<br>\n",
    "----------------------------------------------------------------------"
   ]
  },
  {
   "cell_type": "code",
   "execution_count": 23,
   "id": "38a74fad",
   "metadata": {},
   "outputs": [],
   "source": [
    "def alarm(week_day,vaccation):\n",
    "    if week_day in (i for i in range(1,6)) and vaccation !=True:\n",
    "        print(\"Its 7:00 AM, office calling you\")\n",
    "    elif week_day in (6,7) and vaccation !=True:\n",
    "        print(\"10:00AM, Time over.\")\n",
    "    elif week_day in (i for i in range(1,6)) and vaccation ==True:\n",
    "        print(\"Ok its 10:00AM, wake up\")\n",
    "    elif week_day in (6,7) and vaccation ==True:\n",
    "        print(\"No Buzzing, Sleep onlyzzzzzzzzz\")"
   ]
  },
  {
   "cell_type": "code",
   "execution_count": 24,
   "id": "ef57a05c",
   "metadata": {},
   "outputs": [
    {
     "name": "stdout",
     "output_type": "stream",
     "text": [
      "No Buzzing, Sleep onlyzzzzzzzzz\n"
     ]
    }
   ],
   "source": [
    "alarm(7,True)"
   ]
  },
  {
   "cell_type": "code",
   "execution_count": 25,
   "id": "a82e0056",
   "metadata": {},
   "outputs": [
    {
     "name": "stdout",
     "output_type": "stream",
     "text": [
      "Ok its 10:00AM, wake up\n"
     ]
    }
   ],
   "source": [
    "alarm(3,True)"
   ]
  },
  {
   "cell_type": "markdown",
   "id": "0abc651d",
   "metadata": {},
   "source": [
    "## Factorial"
   ]
  },
  {
   "cell_type": "code",
   "execution_count": 32,
   "id": "35b5e22a",
   "metadata": {},
   "outputs": [],
   "source": [
    "def fact(n):\n",
    "    if n>1:\n",
    "        return n*fact(n-1) # recursion.\n",
    "    elif n==1:\n",
    "        return 1\n",
    "    elif n==0:\n",
    "        return 1"
   ]
  },
  {
   "cell_type": "code",
   "execution_count": 33,
   "id": "4b813dcf",
   "metadata": {},
   "outputs": [
    {
     "data": {
      "text/plain": [
       "120"
      ]
     },
     "execution_count": 33,
     "metadata": {},
     "output_type": "execute_result"
    }
   ],
   "source": [
    "fact(5)"
   ]
  },
  {
   "cell_type": "code",
   "execution_count": 49,
   "id": "d9235ddb",
   "metadata": {},
   "outputs": [],
   "source": [
    "# another way of doing the same.\n",
    "def factorial(n):\n",
    "    num = 1\n",
    "    for i in range(1,n+1):\n",
    "        num = num*i\n",
    "    return num"
   ]
  },
  {
   "cell_type": "code",
   "execution_count": 50,
   "id": "79b1bbcf",
   "metadata": {},
   "outputs": [
    {
     "data": {
      "text/plain": [
       "24"
      ]
     },
     "execution_count": 50,
     "metadata": {},
     "output_type": "execute_result"
    }
   ],
   "source": [
    "factorial(4)"
   ]
  },
  {
   "cell_type": "markdown",
   "id": "5489a3d5",
   "metadata": {},
   "source": [
    "## Reverse The Digit"
   ]
  },
  {
   "cell_type": "markdown",
   "id": "08da402b",
   "metadata": {},
   "source": [
    "Reverse The Digits<br>\n",
    "Description<br>\n",
    "You will be given a number. You have to reverse the digits of the number and print it.\n",
    "<br>\n",
    "----------------------------------------------------------------------<br>\n",
    "Input:<br>\n",
    "A positive integer greater than zero<br>\n",
    "\n",
    "Output:<br>\n",
    "The number in reverse order. Check sample outputs for more details.\n",
    "<br>\n",
    "----------------------------------------------------------------------<br>\n",
    "Sample input:\n",
    "345200\n",
    "<br>\n",
    "Sample output:\n",
    "2543\n",
    "<br>\n",
    "----------------------------------------------------------------------<br>\n",
    "Sample input:\n",
    "6752343\n",
    "<br>\n",
    "Sample output:\n",
    "3432576<br>"
   ]
  },
  {
   "cell_type": "code",
   "execution_count": 63,
   "id": "aff1ef2d",
   "metadata": {},
   "outputs": [],
   "source": [
    "def reverse_num(n):reverse_num(345200)\n",
    "    r = 0\n",
    "\n",
    "    while n>0:\n",
    "        # first it will check for wether n is greater then zero or not\n",
    "        r = r*10 + n%10 # multiply r by 10 to move a space forward and add remainder of n divide by 10\n",
    "        n = n//10 # then remove lastly updated number from end by shorting the number. so to divide by 10 and have integer portion of it.\n",
    "    return r     "
   ]
  },
  {
   "cell_type": "code",
   "execution_count": 65,
   "id": "b07de867",
   "metadata": {},
   "outputs": [
    {
     "data": {
      "text/plain": [
       "(2543, 3432576)"
      ]
     },
     "execution_count": 65,
     "metadata": {},
     "output_type": "execute_result"
    }
   ],
   "source": [
    "reverse_num(345200),reverse_num(6752343)"
   ]
  },
  {
   "cell_type": "markdown",
   "id": "1a6b8f5a",
   "metadata": {},
   "source": [
    "## Printing Pattern"
   ]
  },
  {
   "cell_type": "code",
   "execution_count": 14,
   "id": "4201fbf4",
   "metadata": {
    "scrolled": true
   },
   "outputs": [
    {
     "name": "stdout",
     "output_type": "stream",
     "text": [
      "    *\n",
      "   *_*\n",
      "  *_*_*\n",
      " *_*_*_*\n",
      "*_*_*_*_*\n"
     ]
    }
   ],
   "source": [
    "n = 5\n",
    "for i in range(1,n+1):\n",
    "    for j in range(n-i):\n",
    "        print(\" \",end=\"\")\n",
    "    for k in range(i-1):\n",
    "        print(\"*_\", end=\"\")\n",
    "    print(\"*\")\n",
    "        "
   ]
  },
  {
   "cell_type": "markdown",
   "id": "a63bf844",
   "metadata": {},
   "source": [
    "Practice : - <br>\n",
    "Given a positive integer 'n' less than or equal to 26, you are required to print the below pattern \n",
    " <br>\n",
    "Sample Input: 5 <br>\n",
    " \n",
    "Sample Output : <br>\n",
    "--------e-------- <br>\n",
    "------e-d-e------ <br>\n",
    "----e-d-c-d-e---- <br>\n",
    "--e-d-c-b-c-d-e-- <br>\n",
    "e-d-c-b-a-b-c-d-e <br>\n",
    "--e-d-c-b-c-d-e-- <br>\n",
    "----e-d-c-d-e---- <br>\n",
    "------e-d-e------ <br>\n",
    "--------e-------- <br>\n",
    " \n",
    "Sample Input  : 3 <br>\n",
    " \n",
    "Sample Output : <br>\n",
    "----c---- <br>\n",
    "--c-b-c-- <br>\n",
    "c-b-a-b-c <br>\n",
    "--c-b-c-- <br>\n",
    "----c----<br>"
   ]
  },
  {
   "cell_type": "code",
   "execution_count": 39,
   "id": "320946dd",
   "metadata": {},
   "outputs": [],
   "source": [
    "import string\n",
    "def pattern(n):\n",
    "    a = string.ascii_lowercase\n",
    "\n",
    "    list1 = []\n",
    "    s = \"\"\n",
    "    # Write your code below\n",
    "    for i in range(n):\n",
    "        s = \"-\".join(a[i:n])\n",
    "        list1.append(s[::-1]+s[1:])\n",
    "    length = len(list1[0])\n",
    "    for j in range(n-1,0,-1):\n",
    "        print(list1[j].center(length,\"-\"))\n",
    "    for k in range(n):\n",
    "        print(list1[k].center(length,\"-\"))"
   ]
  },
  {
   "cell_type": "code",
   "execution_count": 42,
   "id": "a83d17a6",
   "metadata": {},
   "outputs": [
    {
     "name": "stdout",
     "output_type": "stream",
     "text": [
      "--------e--------\n",
      "------e-d-e------\n",
      "----e-d-c-d-e----\n",
      "--e-d-c-b-c-d-e--\n",
      "e-d-c-b-a-b-c-d-e\n",
      "--e-d-c-b-c-d-e--\n",
      "----e-d-c-d-e----\n",
      "------e-d-e------\n",
      "--------e--------\n"
     ]
    }
   ],
   "source": [
    "pattern(5)"
   ]
  },
  {
   "cell_type": "code",
   "execution_count": 44,
   "id": "42a8e94e",
   "metadata": {},
   "outputs": [
    {
     "name": "stdout",
     "output_type": "stream",
     "text": [
      "----c----\n",
      "--c-b-c--\n",
      "c-b-a-b-c\n",
      "--c-b-c--\n",
      "----c----\n"
     ]
    }
   ],
   "source": [
    "pattern(3)"
   ]
  },
  {
   "cell_type": "markdown",
   "id": "e222e44a",
   "metadata": {},
   "source": [
    "## Armstrong number <br>\n",
    "Description<br>\n",
    "Any number, say n is called an Armstrong number if it is equal to the sum of its digits, where each is raised to the power of number of digits in n.\n",
    "For example:<br>\n",
    "153=1^3+5^3+3^3<br>\n",
    "\n",
    "Write Python code to determine whether an entered three digit number is an Armstrong number or not. <br>\n",
    "Assume that the number entered will strictly be a three digit number.<br>\n",
    "Print \"True\" if it is an Armstrong number and print \"False\" if it is not.<br>\n",
    "Sample Input:<br>\n",
    "153<br>\n",
    "Sample Output:<br>\n",
    "True<br>"
   ]
  },
  {
   "cell_type": "code",
   "execution_count": 52,
   "id": "f61d0560",
   "metadata": {},
   "outputs": [
    {
     "name": "stdout",
     "output_type": "stream",
     "text": [
      "153\n"
     ]
    }
   ],
   "source": [
    "n = \"153\"\n",
    "list_n = list(map(int,str(n)))\n",
    "num = sum(list(map(lambda x : x**3,list_n)))\n",
    "if num==int(n):\n",
    "    print(n)"
   ]
  },
  {
   "cell_type": "code",
   "execution_count": 53,
   "id": "6bd7b307",
   "metadata": {},
   "outputs": [
    {
     "name": "stdout",
     "output_type": "stream",
     "text": [
      "153\n",
      "370\n",
      "371\n",
      "407\n"
     ]
    }
   ],
   "source": [
    "for n in range(100,1000):\n",
    "    list_n = list(map(int,str(n)))\n",
    "    num = sum(list(map(lambda x : x**3,list_n)))\n",
    "    if num==int(n):\n",
    "        print(num)"
   ]
  },
  {
   "cell_type": "markdown",
   "id": "675bf642",
   "metadata": {},
   "source": [
    "## Fibonacci Series <br>\n",
    "Description<br>\n",
    "Compute and display Fibonacci series upto n terms where n is a positive integer entered by the user.<br>\n",
    "You can go here to read about Fibonacci series.<br>\n",
    "Sample Input:<br>\n",
    "5<br>\n",
    "Sample Output:<br>\n",
    "0<br>\n",
    "1<br>\n",
    "1<br>\n",
    "2<br>\n",
    "3<br>"
   ]
  },
  {
   "cell_type": "code",
   "execution_count": 60,
   "id": "e5aece11",
   "metadata": {},
   "outputs": [],
   "source": [
    "def fibonacci(n):\n",
    "    n1,n2 = 0,1 # first two numbers \n",
    "    count = 0\n",
    "    while count<n:\n",
    "        print(n1)\n",
    "        nth = n1+n2 # 3rd number\n",
    "        n1=n2 # swapping n1 to n2 \n",
    "        n2=nth # swapping n2 to next value\n",
    "        count+=1 # increamenting the count."
   ]
  },
  {
   "cell_type": "code",
   "execution_count": 61,
   "id": "3c867654",
   "metadata": {},
   "outputs": [
    {
     "name": "stdout",
     "output_type": "stream",
     "text": [
      "0\n",
      "1\n",
      "1\n",
      "2\n",
      "3\n"
     ]
    }
   ],
   "source": [
    "fibonacci(5)"
   ]
  },
  {
   "cell_type": "markdown",
   "id": "6339a32e",
   "metadata": {},
   "source": [
    "## Sum of Primes <br>\n",
    "Description<br>\n",
    "Write python code to find the sum of prime numbers from 2 to n where n is a positive integer entered by the user.<br>\n",
    "\n",
    "Note: n can be non-prime or prime. You have to find sum of primes till n and not sum of n prime numbers. i.e. for input 10, output should be 17.<br>\n",
    "\n",
    "\n",
    "Input: A positive integer n.<br>\n",
    "\n",
    "Output: A integer denoting the sum of primes less than or equal to n\n",
    "\n",
    "<br>\n",
    "\n",
    "Sample Input:\n",
    "<br>\n",
    "5<br>\n",
    "\n",
    "Sample Output:<br>\n",
    "\n",
    "10<br>"
   ]
  },
  {
   "cell_type": "code",
   "execution_count": 90,
   "id": "6ce30c49",
   "metadata": {},
   "outputs": [],
   "source": [
    "def prime_num(n):\n",
    "    sum = 0\n",
    "    for num in range(2,n+1):\n",
    "        k = 0\n",
    "        for k in range(2,num):\n",
    "            if (int(num%k==0)):\n",
    "                k = num\n",
    "                break;\n",
    "        if k is not num:\n",
    "            sum+=(num)\n",
    "    return \"sum of all prime number is {x}\".format(x=sum)"
   ]
  },
  {
   "cell_type": "code",
   "execution_count": 91,
   "id": "9dba2d7c",
   "metadata": {},
   "outputs": [
    {
     "data": {
      "text/plain": [
       "'sum of all prime number is 10'"
      ]
     },
     "execution_count": 91,
     "metadata": {},
     "output_type": "execute_result"
    }
   ],
   "source": [
    "prime_num(5)"
   ]
  },
  {
   "cell_type": "markdown",
   "id": "ba7caeeb",
   "metadata": {},
   "source": [
    "## Palindrome String <br>\n",
    "Description<br><br>\n",
    "Write a program to check whether a string is a palindrome or not. Print 1 if the string is a palindrome and 0 otherwise.<br>\n",
    "\n",
    "Note: Please ensure that your program should not be case-sensitive. So, if the input is, say, “HAnnah”, then, its output should be 1.<br>\n",
    "<br>\n",
    "----------------------------------------------------------------------\n",
    "Input:<br>\n",
    "A string<br>\n",
    "<br>\n",
    "Output:<br>\n",
    "1 if the string is a palindrome, 0 otherwise\n",
    "<br>\n",
    "----------------------------------------------------------------------\n",
    "Sample input:<br>\n",
    "HAnnah<br>\n",
    "\n",
    "Sample output:<br>\n",
    "1<br>\n",
    "<br>\n",
    "----------------------------------------------------------------------\n",
    "Sample input:<br>\n",
    "Rebecca<br>\n",
    "\n",
    "Sample output:<br>\n",
    "0<br>"
   ]
  },
  {
   "cell_type": "code",
   "execution_count": 111,
   "id": "06793dac",
   "metadata": {},
   "outputs": [
    {
     "name": "stdout",
     "output_type": "stream",
     "text": [
      "hannah\n"
     ]
    }
   ],
   "source": [
    "s = \"HAnnah\"\n",
    "forward = s.lower()\n",
    "backward = \"\"\n",
    "\n",
    "for i in forward:\n",
    "    backward = i+backward\n",
    "    \n",
    "if forward == backward:\n",
    "    print(backward)\n",
    "else:\n",
    "     print(\"not a palindrom\")"
   ]
  },
  {
   "cell_type": "code",
   "execution_count": 128,
   "id": "94aabaad",
   "metadata": {
    "scrolled": true
   },
   "outputs": [
    {
     "name": "stdout",
     "output_type": "stream",
     "text": [
      "hannah\n"
     ]
    }
   ],
   "source": [
    "# second way of solving same method\n",
    "s= \"hannah\"\n",
    "\n",
    "\n",
    "forward = s \n",
    "words = [i for i in forward]\n",
    "reverse = words[::-1]\n",
    "backword = \"\".join(reverse)\n",
    "\n",
    "#check for palindrome here\n",
    "\n",
    "if forward.lower() == backword.lower():\n",
    "    print(backword)\n",
    "else:\n",
    "    print(backword)"
   ]
  },
  {
   "cell_type": "markdown",
   "id": "f9bc4178",
   "metadata": {},
   "source": [
    "## Reversed Words"
   ]
  },
  {
   "cell_type": "code",
   "execution_count": 133,
   "id": "4ff4da6c",
   "metadata": {
    "scrolled": true
   },
   "outputs": [
    {
     "data": {
      "text/plain": [
       "'Python Love i'"
      ]
     },
     "execution_count": 133,
     "metadata": {},
     "output_type": "execute_result"
    }
   ],
   "source": [
    "sentence = \"i Love Python\"\n",
    "list_s = sentence.split(\" \")\n",
    "back = list_s[::-1]\n",
    "reversed_Sen = \" \".join(back)\n",
    "reversed_Sen"
   ]
  },
  {
   "cell_type": "markdown",
   "id": "412e7968",
   "metadata": {},
   "source": [
    "Reveresd words with reveres letters."
   ]
  },
  {
   "cell_type": "code",
   "execution_count": 139,
   "id": "037e3fee",
   "metadata": {},
   "outputs": [
    {
     "data": {
      "text/plain": [
       "'nohtyP evoL i'"
      ]
     },
     "execution_count": 139,
     "metadata": {},
     "output_type": "execute_result"
    }
   ],
   "source": [
    "rev = []\n",
    "for i in range(1,len(list_s)+1):\n",
    "    rev.append(list_s[-i][::-1])\n",
    "\" \".join(rev)"
   ]
  },
  {
   "cell_type": "markdown",
   "id": "1d2cc87b",
   "metadata": {},
   "source": [
    "## No Spaces <br>\n",
    "Description<br>\n",
    "While naming entities, it is a common practice to avoid spaces. That is the reason you see so many people using underscores instead of spaces. \n",
    "You will be given a string, containing a few spaces and random upper and lower cases. You have to write a code that will add underscore in place of spaces and also capitalise the letters properly, i.e. the first letter after underscore should be in upper case and the first letter of the string should be in upper case, all of the other letters should be lower case. \n",
    "This type of activity is frequently encountered while starting to analyse data. This is called Data cleaning and you will learn more about it in upcoming modules.\n",
    "<br>\n",
    "----------------------------------------------------------------------\n",
    "Input:<br>\n",
    "A string of only alphabets and spaces<br>\n",
    "\n",
    "Output:<br>\n",
    "A string formatted as stated above. See sample input/output for more clarification,<br>\n",
    "\n",
    "----------------------------------------------------------------------\n",
    "Sample input:<br>\n",
    "caloRie consuMed<br>\n",
    "\n",
    "Sample output:<br>\n",
    "Calorie_Consumed<br>\n",
    "<br>\n",
    "----------------------------------------------------------------------\n",
    "Sample input:<br>\n",
    "data science<br>\n",
    "<br>\n",
    "Sample output:<br>\n",
    "Data_Science<br>"
   ]
  },
  {
   "cell_type": "code",
   "execution_count": 141,
   "id": "16cd6b7f",
   "metadata": {},
   "outputs": [],
   "source": [
    "def nospace(inp_word):    \n",
    "    l_words = inp_word.split(\" \")\n",
    "    formated_words = [i.title() for i in l_words]\n",
    "    result = \"_\".join(formated_words)\n",
    "    return result"
   ]
  },
  {
   "cell_type": "code",
   "execution_count": 142,
   "id": "be115b0c",
   "metadata": {},
   "outputs": [
    {
     "data": {
      "text/plain": [
       "'Calorie_Consumed'"
      ]
     },
     "execution_count": 142,
     "metadata": {},
     "output_type": "execute_result"
    }
   ],
   "source": [
    "nospace(\"caloRie consuMed\")"
   ]
  },
  {
   "cell_type": "markdown",
   "id": "3e77f059",
   "metadata": {},
   "source": [
    "## Shift Vowels <br>\n",
    "Description<br>\n",
    "Write a program that receives a string and shifts all the vowels present in it to the beginning. Output the resultant string. The order of all the vowels with respect to each other as well as the order of all the other characters with respect to each other should stay the same.<br>\n",
    "<br>\n",
    "----------------------------------------------------------------------\n",
    "Input:<br>\n",
    "A string<br>\n",
    "\n",
    "Output:<br>\n",
    "Vowels shifted to the beginning in the input string.<br>\n",
    "<br>\n",
    "----------------------------------------------------------------------\n",
    "Sample input:<br>\n",
    "programming<br>\n",
    "\n",
    "Sample output:<br>\n",
    "oaiprgrmmng<br>\n",
    "<br>\n",
    "----------------------------------------------------------------------\n",
    "Sample input:<br>\n",
    "You love Python!<br>\n",
    "\n",
    "Sample output:<br>\n",
    "ouoeoY lv Pythn!<br>\n",
    "\n",
    "----------------------------------------------------------------------\n",
    "Explanation:<br>\n",
    "All the vowels have been shifted to the beginning in order. The order of all the other characters remains the same.<br>"
   ]
  },
  {
   "cell_type": "code",
   "execution_count": 146,
   "id": "8483d5b7",
   "metadata": {},
   "outputs": [],
   "source": [
    "def shift_vowel(n):\n",
    "    inp_str = n.lower()\n",
    "    vowel = \"\"\n",
    "    consonent = \"\"\n",
    "    for i in inp_str:\n",
    "        if i in \"aeiou\":\n",
    "            vowel = vowel+i\n",
    "        else:\n",
    "            consonent = consonent+i\n",
    "    final = vowel+consonent\n",
    "    return (\"so the final view of the input string is: - '{final}'\".format(final=final))"
   ]
  },
  {
   "cell_type": "code",
   "execution_count": 147,
   "id": "fad450c4",
   "metadata": {},
   "outputs": [
    {
     "data": {
      "text/plain": [
       "\"so the final view of the input string is: - 'ouoeoy lv pythn'\""
      ]
     },
     "execution_count": 147,
     "metadata": {},
     "output_type": "execute_result"
    }
   ],
   "source": [
    "shift_vowel(\"you love python\")"
   ]
  },
  {
   "cell_type": "markdown",
   "id": "eba4c8c0",
   "metadata": {},
   "source": [
    "## Common Prefix <br>\n",
    "Description<br>\n",
    "You will be given two strings. You have to find the largest prefix common in both the strings.\n",
    "<br>\n",
    "----------------------------------------------------------------------\n",
    "Input:<br>\n",
    "Two lines of input, one string on each line<br>\n",
    "\n",
    "Output:<br>\n",
    "The common largest prefix for both strings. Check sample input/output for clarification. -1 if no prefix is common.\n",
    "<br>\n",
    "----------------------------------------------------------------------\n",
    "Sample input:<br>\n",
    "abshdksajd<br>\n",
    "abshiehand<br>\n",
    "\n",
    "Sample output:<br>\n",
    "absh<br>\n",
    "\n"
   ]
  },
  {
   "cell_type": "code",
   "execution_count": 152,
   "id": "81bd595f",
   "metadata": {},
   "outputs": [
    {
     "name": "stdout",
     "output_type": "stream",
     "text": [
      "absh\n"
     ]
    }
   ],
   "source": [
    "n = \"abshdksajd abshienhand\"\n",
    "# having list of two words to compare\n",
    "inp_Str = (n.lower()).split() \n",
    "min_str = min(inp_Str[0],inp_Str[-1])\n",
    "# finding the min len string to iter till.\n",
    "len_least = len(min_str)\n",
    "\n",
    "for i in range(len_least):\n",
    "    if inp_Str[0][i] != inp_Str[-1][i]:\n",
    "        break;\n",
    "        \n",
    "if i==0:\n",
    "    print(-1)\n",
    "#printing the prefix\n",
    "else:\n",
    "    print(min_str[:i])\n",
    "        "
   ]
  },
  {
   "cell_type": "markdown",
   "id": "80c6cc04",
   "metadata": {},
   "source": [
    "## Anagrams <br>\n",
    "Description<br>\n",
    "Two strings are anagrams of each other if you can rearrange the characters of one string to make the other string.<br>\n",
    "Given two strings, can you find if they are anagrams or no?<br>\n",
    "\n",
    "----------------------------------------------------------------------\n",
    "Input:<br>\n",
    "Two lines of input, each line will contain a string without space.\n",
    "<br>\n",
    "Output:<br>\n",
    "True or False based on whether the strings are anagrams or not.\n",
    "<br>\n",
    "----------------------------------------------------------------------\n",
    "Sample input:<br>\n",
    "thing<br>\n",
    "night<br>\n",
    "\n",
    "Sample output:<br>\n",
    "True\n",
    "<br>\n",
    "----------------------------------------------------------------------\n",
    "Sample input:<br>\n",
    "upgrad<br>\n",
    "found<br>\n",
    "\n",
    "Sample output:<br>\n",
    "False<br>"
   ]
  },
  {
   "cell_type": "code",
   "execution_count": 178,
   "id": "1d98ad7a",
   "metadata": {},
   "outputs": [],
   "source": [
    "def anagram(n):\n",
    "    l_n = n.lower().split(\" \")\n",
    "    n1 = l_n[0]\n",
    "    n2 = l_n[1]\n",
    "    n3 = \"\"\n",
    "    if len(n1)!=len(n2):\n",
    "        return False\n",
    "    \n",
    "    elif len(n1)==len(n2):\n",
    "        for i in range(len(n1)):\n",
    "            if n1.count(n1[i]) != n2.count(n1[i]):\n",
    "                return False\n",
    "        return True"
   ]
  },
  {
   "cell_type": "code",
   "execution_count": 183,
   "id": "0955cb54",
   "metadata": {},
   "outputs": [
    {
     "data": {
      "text/plain": [
       "True"
      ]
     },
     "execution_count": 183,
     "metadata": {},
     "output_type": "execute_result"
    }
   ],
   "source": [
    "anagram(\"night thing\")"
   ]
  },
  {
   "cell_type": "code",
   "execution_count": null,
   "id": "8c650cf6",
   "metadata": {},
   "outputs": [],
   "source": []
  }
 ],
 "metadata": {
  "kernelspec": {
   "display_name": "Python 3",
   "language": "python",
   "name": "python3"
  },
  "language_info": {
   "codemirror_mode": {
    "name": "ipython",
    "version": 3
   },
   "file_extension": ".py",
   "mimetype": "text/x-python",
   "name": "python",
   "nbconvert_exporter": "python",
   "pygments_lexer": "ipython3",
   "version": "3.8.8"
  }
 },
 "nbformat": 4,
 "nbformat_minor": 5
}
