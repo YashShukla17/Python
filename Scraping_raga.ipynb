{
 "cells": [
  {
   "cell_type": "code",
   "execution_count": 3,
   "id": "10e7bf6d",
   "metadata": {},
   "outputs": [],
   "source": [
    "import pandas as pd\n",
    "import requests\n",
    "from bs4 import BeautifulSoup as bs"
   ]
  },
  {
   "cell_type": "code",
   "execution_count": 163,
   "id": "45f1e2f6",
   "metadata": {},
   "outputs": [],
   "source": [
    "url = \"https://en.wikipedia.org/wiki/Category:Hindustani_ragas\"\n",
    "def get_raga_list(url):\n",
    "    r = requests.get(url)\n",
    "    if r.status_code ==200:\n",
    "        raga_list = bs(r.content)\n",
    "    else:\n",
    "        raise \"not valid\"\n",
    "    return raga_list\n"
   ]
  },
  {
   "cell_type": "code",
   "execution_count": 164,
   "id": "0bb853c6",
   "metadata": {},
   "outputs": [],
   "source": [
    "raga_list = get_raga_list(url)"
   ]
  },
  {
   "cell_type": "code",
   "execution_count": 218,
   "id": "6640ce68",
   "metadata": {},
   "outputs": [],
   "source": [
    "names = []\n",
    "urls = []\n",
    "def get_raga_urls(raga_list):\n",
    "    base_url = \"https://en.wikipedia.org\"\n",
    "    page_link = raga_list.find_all(\"div\",{\"class\":\"mw-category-group\"})[1:]\n",
    "    for i in range(0,len(all_link)):\n",
    "        page_link = all_link[i].select(\"ul a\")\n",
    "        for link in range(0,len(page_link)):\n",
    "            raga_a = page_link[link]\n",
    "            raga_href = raga_a[\"href\"]\n",
    "            raga_name = raga_a.text.strip()\n",
    "            names.append(raga_name)\n",
    "            urls.append(base_url+raga_href)\n",
    "    raga_dict = {\"Raga Names\":names,\"url\":urls}\n",
    "    return pd.DataFrame(raga_dict)"
   ]
  },
  {
   "cell_type": "code",
   "execution_count": 219,
   "id": "a40d4bc2",
   "metadata": {},
   "outputs": [],
   "source": [
    "df = get_raga_urls(raga_list)"
   ]
  },
  {
   "cell_type": "markdown",
   "id": "19b553f0",
   "metadata": {},
   "source": [
    "### since the raga abhogi is in both carnatic and hindustani music there is not much relevent information given for this raga thats why we are skipping it."
   ]
  },
  {
   "cell_type": "code",
   "execution_count": 220,
   "id": "92994e3d",
   "metadata": {},
   "outputs": [],
   "source": [
    "df = df[1:]"
   ]
  },
  {
   "cell_type": "code",
   "execution_count": 221,
   "id": "64fc4420",
   "metadata": {},
   "outputs": [
    {
     "data": {
      "text/html": [
       "<div>\n",
       "<style scoped>\n",
       "    .dataframe tbody tr th:only-of-type {\n",
       "        vertical-align: middle;\n",
       "    }\n",
       "\n",
       "    .dataframe tbody tr th {\n",
       "        vertical-align: top;\n",
       "    }\n",
       "\n",
       "    .dataframe thead th {\n",
       "        text-align: right;\n",
       "    }\n",
       "</style>\n",
       "<table border=\"1\" class=\"dataframe\">\n",
       "  <thead>\n",
       "    <tr style=\"text-align: right;\">\n",
       "      <th></th>\n",
       "      <th>Raga Names</th>\n",
       "      <th>url</th>\n",
       "    </tr>\n",
       "  </thead>\n",
       "  <tbody>\n",
       "    <tr>\n",
       "      <th>1</th>\n",
       "      <td>Adana (raga)</td>\n",
       "      <td>https://en.wikipedia.org/wiki/Adana_(raga)</td>\n",
       "    </tr>\n",
       "    <tr>\n",
       "      <th>2</th>\n",
       "      <td>Amritvarshini (raga)</td>\n",
       "      <td>https://en.wikipedia.org/wiki/Amritvarshini_(r...</td>\n",
       "    </tr>\n",
       "    <tr>\n",
       "      <th>3</th>\n",
       "      <td>Asa (raga)</td>\n",
       "      <td>https://en.wikipedia.org/wiki/Asa_(raga)</td>\n",
       "    </tr>\n",
       "    <tr>\n",
       "      <th>4</th>\n",
       "      <td>Asavari</td>\n",
       "      <td>https://en.wikipedia.org/wiki/Asavari</td>\n",
       "    </tr>\n",
       "    <tr>\n",
       "      <th>5</th>\n",
       "      <td>Bageshri</td>\n",
       "      <td>https://en.wikipedia.org/wiki/Bageshri</td>\n",
       "    </tr>\n",
       "    <tr>\n",
       "      <th>...</th>\n",
       "      <td>...</td>\n",
       "      <td>...</td>\n",
       "    </tr>\n",
       "    <tr>\n",
       "      <th>89</th>\n",
       "      <td>Bhupal Todi</td>\n",
       "      <td>https://en.wikipedia.org/wiki/Bhupal_Todi</td>\n",
       "    </tr>\n",
       "    <tr>\n",
       "      <th>90</th>\n",
       "      <td>Bilaskhani Todi</td>\n",
       "      <td>https://en.wikipedia.org/wiki/Bilaskhani_Todi</td>\n",
       "    </tr>\n",
       "    <tr>\n",
       "      <th>91</th>\n",
       "      <td>Yaman (raga)</td>\n",
       "      <td>https://en.wikipedia.org/wiki/Yaman_(raga)</td>\n",
       "    </tr>\n",
       "    <tr>\n",
       "      <th>92</th>\n",
       "      <td>Yaman Kalyan</td>\n",
       "      <td>https://en.wikipedia.org/wiki/Yaman_Kalyan</td>\n",
       "    </tr>\n",
       "    <tr>\n",
       "      <th>93</th>\n",
       "      <td>Zeelaf</td>\n",
       "      <td>https://en.wikipedia.org/wiki/Zeelaf</td>\n",
       "    </tr>\n",
       "  </tbody>\n",
       "</table>\n",
       "<p>93 rows × 2 columns</p>\n",
       "</div>"
      ],
      "text/plain": [
       "              Raga Names                                                url\n",
       "1           Adana (raga)         https://en.wikipedia.org/wiki/Adana_(raga)\n",
       "2   Amritvarshini (raga)  https://en.wikipedia.org/wiki/Amritvarshini_(r...\n",
       "3             Asa (raga)           https://en.wikipedia.org/wiki/Asa_(raga)\n",
       "4                Asavari              https://en.wikipedia.org/wiki/Asavari\n",
       "5               Bageshri             https://en.wikipedia.org/wiki/Bageshri\n",
       "..                   ...                                                ...\n",
       "89           Bhupal Todi          https://en.wikipedia.org/wiki/Bhupal_Todi\n",
       "90       Bilaskhani Todi      https://en.wikipedia.org/wiki/Bilaskhani_Todi\n",
       "91          Yaman (raga)         https://en.wikipedia.org/wiki/Yaman_(raga)\n",
       "92          Yaman Kalyan         https://en.wikipedia.org/wiki/Yaman_Kalyan\n",
       "93                Zeelaf               https://en.wikipedia.org/wiki/Zeelaf\n",
       "\n",
       "[93 rows x 2 columns]"
      ]
     },
     "execution_count": 221,
     "metadata": {},
     "output_type": "execute_result"
    }
   ],
   "source": [
    "df"
   ]
  }
 ],
 "metadata": {
  "kernelspec": {
   "display_name": "Python 3 (ipykernel)",
   "language": "python",
   "name": "python3"
  },
  "language_info": {
   "codemirror_mode": {
    "name": "ipython",
    "version": 3
   },
   "file_extension": ".py",
   "mimetype": "text/x-python",
   "name": "python",
   "nbconvert_exporter": "python",
   "pygments_lexer": "ipython3",
   "version": "3.8.6"
  }
 },
 "nbformat": 4,
 "nbformat_minor": 5
}
